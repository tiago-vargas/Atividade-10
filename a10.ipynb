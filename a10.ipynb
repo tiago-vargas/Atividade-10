{
 "cells": [
  {
   "cell_type": "markdown",
   "metadata": {},
   "source": [
    "# Atividade 10"
   ]
  },
  {
   "cell_type": "markdown",
   "metadata": {},
   "source": [
    "# Q1\n",
    "\n",
    "Implemente com a linguagem de sua preferência um programa em que dado dois grafos não dirigidos na forma de matriz de adjacência com vértices igual a 5 como entradas, o programa irá identificar se ambas são isomorfos ou não."
   ]
  },
  {
   "cell_type": "markdown",
   "metadata": {},
   "source": [
    "# Q2\n",
    "\n",
    "Implemente um programa em que dado a matriz de adjacência de um grafo não dirigido como entrada, o programa irá identificar se o grafo é regular?"
   ]
  },
  {
   "cell_type": "markdown",
   "metadata": {},
   "source": [
    "# Q3\n",
    "\n",
    "Implemente um programa em que dado a matriz de **incidência** de um grafo não dirigido como entrada, o programa irá identificar se o grafo é roda."
   ]
  },
  {
   "cell_type": "markdown",
   "metadata": {},
   "source": [
    "# Q4\n",
    "\n",
    "Implemente um programa em que dado dois índices “m” e “n” como entradas em que representam os conjuntos de nós de um grafo bipartido, o programa irá mostrar a matriz de incidência desse grafo bipartido?"
   ]
  }
 ],
 "metadata": {
  "language_info": {
   "name": "python"
  }
 },
 "nbformat": 4,
 "nbformat_minor": 2
}
